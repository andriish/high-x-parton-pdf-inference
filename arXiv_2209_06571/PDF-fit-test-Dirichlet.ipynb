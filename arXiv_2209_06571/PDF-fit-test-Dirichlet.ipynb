{
 "cells": [
  {
   "cell_type": "markdown",
   "metadata": {},
   "source": [
    "# PDF fit\n",
    "\n",
    "Old version without `K_q` as a free parameter. Will have to use pre v0.1.0 version of PartonDensity to run this. See: https://github.com/cescalara/PartonDensity.jl/pull/68"
   ]
  },
  {
   "cell_type": "code",
   "execution_count": null,
   "metadata": {},
   "outputs": [],
   "source": [
    "using BAT, DensityInterface\n",
    "using PartonDensity\n",
    "using QCDNUM\n",
    "using Plots, Random, Distributions, ValueShapes, ParallelProcessingTools\n",
    "using StatsBase, LinearAlgebra\n",
    "using SpecialFunctions, Printf\n",
    "const sf = SpecialFunctions;\n",
    "using DelimitedFiles\n",
    "using LaTeXStrings\n",
    "using HypothesisTests\n",
    "using Statistics\n",
    "\n",
    "gr(fmt=:png);"
   ]
  },
  {
   "cell_type": "code",
   "execution_count": null,
   "metadata": {},
   "outputs": [],
   "source": [
    "import HDF5\n",
    "samples = bat_read(\"data/Data-Dirichlet-sysrun-priors-tight.h5\").result\n",
    "#samples = bat_read(\"data/Data-Dirichlet-sysrun-priors-long.h5\").result\n",
    "\n",
    "open(\"data/report-sysrun-priors-tight.txt\", \"w\") do io\n",
    "#open(\"report-sysrun-priors-long.txt\", \"w\") do io\n",
    "   show(io, MIME\"text/plain\"(), bat_report(samples))\n",
    "end"
   ]
  },
  {
   "cell_type": "code",
   "execution_count": null,
   "metadata": {},
   "outputs": [],
   "source": [
    "qcdnum_grid = QCDNUMGrid(x_min=[1.0e-3, 1.0e-1, 5.0e-1], x_weights=[1, 2, 2], nx=100,\n",
    "                         qq_bounds=[1.0e2, 3.0e4], qq_weights=[1.0, 1.0], nq=50, spline_interp=3)\n",
    "qcdnum_params = QCDNUMParameters(order=2, α_S=0.118, q0=100.0, grid=qcdnum_grid,\n",
    "                                 n_fixed_flav=5, iqc=1, iqb=1, iqt=1, weight_type=1);\n",
    "\n",
    "splint_params = SPLINTParameters();\n",
    "quark_coeffs = QuarkCoefficients();\n",
    "\n",
    "#forward_model_init(qcdnum_grid, qcdnum_params, splint_params)\n",
    "forward_model_init_sysErr(qcdnum_grid, qcdnum_params, splint_params);"
   ]
  },
  {
   "cell_type": "code",
   "execution_count": null,
   "metadata": {},
   "outputs": [],
   "source": [
    "#\n",
    "# The following used just to define arrays\n",
    "#\n",
    "pdf_params_gen, sim_data = pd_read_sim(\"data/simulation-Dirichlet-Syst.h5\")\n",
    "nbins=sim_data[\"nbins\"]\n",
    "counts_obs_ep_sim= sim_data[\"counts_obs_ep\"]\n",
    "counts_obs_em_sim= sim_data[\"counts_obs_em\"]\n",
    "\n",
    "#\n",
    "# Read in the ZEUS data\n",
    "#\n",
    "counts_obs_ep_data = readdlm(\"data/eP.dat\") \n",
    "counts_obs_em_data = readdlm(\"data/eM.dat\");"
   ]
  },
  {
   "cell_type": "code",
   "execution_count": null,
   "metadata": {},
   "outputs": [],
   "source": [
    "#\n",
    "# The prior used in the fitting - should read this from a file\n",
    "#\n",
    "#\n",
    "# The tight prior definition on K_u, K_d\n",
    "#\n",
    "prior = NamedTupleDist(\n",
    "    θ = Dirichlet([34.,17.,22.,22.,2,2,1,1,0.5]),\n",
    "    K_u = Truncated(Normal(3.5, 0.5), 2., 5.),\n",
    "    K_d = Truncated(Normal(3.5, 0.5), 2., 5.),\n",
    "    λ_g1 = Uniform(1., 2.),\n",
    "    λ_g2 = Uniform(-0.5, -0.1),\n",
    "    K_g =  Truncated(Normal(4., 1.5), 2., 5.),\n",
    "    λ_q = Uniform(-0.5, -0.1),\n",
    "    Beta1 =  Truncated(Normal(0, 1), -5, 5),\n",
    "    Beta2 =  Truncated(Normal(0, 1), -5, 5),\n",
    "    beta0_1=  Truncated(Normal(0, 1), -5, 5), \n",
    "    beta0_2=   Truncated(Normal(0, 1), -5, 5),    \n",
    "    beta0_3= Truncated(Normal(0, 1), -5, 5), \n",
    "    beta0_4=  Truncated(Normal(0, 1), -5, 5), \n",
    "    beta0_5=  Truncated(Normal(0, 1), -5, 5), \n",
    "    beta0_6=  Truncated(Normal(0, 1), -5, 5), \n",
    "    beta0_7=  Truncated(Normal(0, 1), -5, 5), \n",
    "    beta0_8=   Truncated(Normal(0, 1), -5, 5)\n",
    ");\n",
    "\n",
    "# The loose prior definition on K_u, K_d\n",
    "#=\n",
    "       prior = NamedTupleDist(\n",
    "           θ = Dirichlet([34.,17.,22.,22.,2,2,1,1,0.5]),\n",
    "           K_u = Truncated(Normal(3.5, 1.), 2., 5.),\n",
    "           K_d = Truncated(Normal(3.5, 1.), 2., 5.),\n",
    "           λ_g1 = Uniform(1., 2.),\n",
    "           λ_g2 = Uniform(-0.5, -0.1),\n",
    "           K_g =  Truncated(Normal(4., 1.5), 2., 5.),\n",
    "           λ_q = Uniform(-0.5, -0.1),\n",
    "           Beta1 =  Truncated(Normal(0, 1), -5, 5),\n",
    "           Beta2 =  Truncated(Normal(0, 1), -5, 5),\n",
    "           beta0_1=  Truncated(Normal(0, 1), -5, 5), \n",
    "           beta0_2=   Truncated(Normal(0, 1), -5, 5),    \n",
    "           beta0_3= Truncated(Normal(0, 1), -5, 5), \n",
    "           beta0_4=  Truncated(Normal(0, 1), -5, 5), \n",
    "           beta0_5=  Truncated(Normal(0, 1), -5, 5), \n",
    "           beta0_6=  Truncated(Normal(0, 1), -5, 5), \n",
    "           beta0_7=  Truncated(Normal(0, 1), -5, 5), \n",
    "           beta0_8=   Truncated(Normal(0, 1), -5, 5)\n",
    "       );\n",
    "=#\n",
    "# Generate samples according to prior for plotting\n",
    "priorsamples = bat_sample(prior).result"
   ]
  },
  {
   "cell_type": "code",
   "execution_count": null,
   "metadata": {},
   "outputs": [],
   "source": [
    "#\n",
    "# Here we plot a comparison of the prior and posterior contours in the space of K_\n",
    "plot(\n",
    "   [NaN], legend = :topleft, linecolor = :blue4,\n",
    "   label = L\"P_0(K_u,\\Delta_u), 95~\\%\")\n",
    "plot!(priorsamples, (:(K_u), :(θ[1])),xrange=(2.,5),yrange=(0,1),seriestype=:smallest_intervals_contour,linecolor=:blue4,    \n",
    "intervals = [0.955],smoothing=4,marginalmode = false,\n",
    "    legend=:topleft,\n",
    "    label=L\"P_0(K_u,\\Delta_u), 95~\\%\",)\n",
    "plot!(\n",
    "   [NaN], legend = :topleft, linecolor = :blue,\n",
    "   label = L\"P_0(K_u,\\Delta_u), 68~\\%\")\n",
    "plot!(priorsamples, (:(K_u), :(θ[1])),xrange=(2.,5),yrange=(0,1),seriestype=:smallest_intervals_contour,linecolor=:blue,    \n",
    "intervals = [0.68], smoothing=4,marginalmode = false,\n",
    "    legend=:topleft,\n",
    "    label=L\"P_0(K_u,\\Delta_u), 68~\\%\",)\n",
    "plot!(\n",
    "    samples, (:(K_u), :(θ[1])),xrange=(2.,5),yrange=(0,1.),\n",
    "    intervals = [0.955],\n",
    "    nbins=100,\n",
    "    colors=[:green],\n",
    "    smoothing=4,\n",
    "    alpha=0.7,\n",
    "    marginalmode=false,\n",
    "    legend=:topleft,\n",
    "    label=L\"P(K_u,\\Delta_u), 95~\\%\",\n",
    "    \n",
    ")\n",
    "plot!(\n",
    "    samples, (:(K_u), :(θ[1])),xrange=(2.,5),yrange=(0,1.),\n",
    "    intervals = [0.683],\n",
    "    nbins=100,\n",
    "    colors=[:green2],\n",
    "    smoothing=4,\n",
    "    alpha=0.7,\n",
    "    marginalmode=false,\n",
    "    legend=:topleft,\n",
    "    label=L\"P(K_u,\\Delta_u), 68~\\%\",\n",
    "    xlabel=L\"K_u\",\n",
    "    ylabel=L\"\\Delta_u\",\n",
    "#    legendfontsize=3,\n",
    "    thickness_scaling=1.3\n",
    "    \n",
    ")"
   ]
  },
  {
   "cell_type": "code",
   "execution_count": null,
   "metadata": {},
   "outputs": [],
   "source": [
    "savefig(\"Mom-K.pdf\")"
   ]
  },
  {
   "cell_type": "code",
   "execution_count": null,
   "metadata": {},
   "outputs": [],
   "source": [
    "#\n",
    "# Comparison of prior and posterior for momentum of u-valence\n",
    "#\n",
    "p1=plot(priorsamples, vsel=[:(θ[1])],xrange=(0,1),seriestype=:stephist,\n",
    "        label=L\"P_0(\\Delta_u)\",\n",
    ")\n",
    "#=\n",
    "p1=plot!(samples, vsel=[:(θ[1])],xrange=(0,1),    \n",
    "    xlabel=L\"\\Delta_u\",\n",
    "    ylabel=L\"P(\\Delta_u)\",\n",
    "    label=L\"68~\\%~{\\rm Credible \\; Interval\",\n",
    "    thickness_scaling=1.1,\n",
    "    legend=:topright,\n",
    "        alpha=0.5,\n",
    "    intervals = [0.68],\n",
    "    )\n",
    "=#\n",
    "p1=plot!(samples, vsel=[:(θ[1])],xrange=(0,1),    \n",
    "    xlabel=L\"\\Delta_u\",\n",
    "    ylabel=L\"P_0(\\Delta_u), P(\\Delta_u)\",\n",
    "    label=L\"68~\\%~{\\rm Credible \\; Interval\",\n",
    "    thickness_scaling=1.3,\n",
    "    legend=:none,\n",
    "        alpha=0.5,\n",
    "    intervals = [0.68],\n",
    "    )\n",
    "plot(p1)"
   ]
  },
  {
   "cell_type": "code",
   "execution_count": null,
   "metadata": {},
   "outputs": [],
   "source": [
    "#\n",
    "# Comparison of prior and posterior for K_u\n",
    "#\n",
    "p2=plot(priorsamples, vsel=[:K_u],xrange=(2,5),seriestype=:stephist,\n",
    "            label=L\"P_0(K_u)\",\n",
    "    )\n",
    "p2=plot!(samples, vsel=[:K_u],xrange=(2,5),    \n",
    "    xlabel=L\"K_u\",\n",
    "    ylabel=L\"P_0(K_u), P(K_u)\",\n",
    "    label=L\"68~\\%~{\\rm Credible \\; Interval\",\n",
    "    thickness_scaling=1.3,\n",
    "    legend=:topright,\n",
    "    alpha=0.5,\n",
    "    intervals = [0.68],\n",
    "    )\n",
    "#plot(p2)"
   ]
  },
  {
   "cell_type": "code",
   "execution_count": null,
   "metadata": {},
   "outputs": [],
   "source": [
    "#\n",
    "# Stacked plots\n",
    "#\n",
    "plot(p1,p2, layout = (2, 1))"
   ]
  },
  {
   "cell_type": "code",
   "execution_count": null,
   "metadata": {},
   "outputs": [],
   "source": [
    "savefig(\"Marginals-momu-Ku.pdf\")"
   ]
  },
  {
   "cell_type": "code",
   "execution_count": null,
   "metadata": {},
   "outputs": [],
   "source": [
    "#\n",
    "# Here we calculated the effective exponent of (1-x) for the u-valence distribution\n",
    "#\n",
    "x_range=0.5:0.01:1\n",
    "f(v,x)=v.K_u-(1-x)*v.θ[1]*(v.K_u+1)/(2-v.θ[1])/x\n",
    "plot(\n",
    "   x_range, f, samples, yrange=(2,5),\n",
    "   intervals = [0.68],\n",
    "#   colors = [:green4],\n",
    "   global_mode = false, median = false,\n",
    "   label = L\"68~\\%~{\\rm Credible \\; Interval}\",\n",
    "    xlabel=L\"x\",\n",
    "    ylabel=L\"\\beta(x)\",\n",
    "    legend=:none\n",
    "\n",
    ")"
   ]
  },
  {
   "cell_type": "code",
   "execution_count": null,
   "metadata": {},
   "outputs": [],
   "source": [
    "savefig(\"EffExp.pdf\")"
   ]
  },
  {
   "cell_type": "code",
   "execution_count": null,
   "metadata": {},
   "outputs": [],
   "source": [
    "#\n",
    "# And here the u-valence distribution itself\n",
    "#\n",
    "function wrap_xuVal(p::NamedTuple, x::Real)\n",
    "    \n",
    "    pdf_params3 = DirichletPDFParams(K_u=p.K_u, K_d=p.K_d, λ_g1=p.λ_g1, \n",
    "                                    λ_g2=p.λ_g2, K_g=p.K_g, λ_q=p.λ_q, θ=p.θ)\n",
    "    uval = PartonDensity.x_uv_x(x,pdf_params3.λ_u,pdf_params3.K_u  )\n",
    "    return uval\n",
    "end\n",
    "x_grid = range(0, stop=1, length=200)\n",
    "plot(x_grid, wrap_xuVal, samples, intervals=[0.68],colors=[:chartreuse2],\n",
    "   label = L\"68~\\%~{\\rm Credible \\; Interval}\",\n",
    "    xlabel=L\"x\",\n",
    "    ylabel=L\"xu(x,Q^2=100~{\\rm GeV}^2)\",\n",
    "       global_mode = false, median = false,\n",
    "    legend=:topright\n",
    ")"
   ]
  },
  {
   "cell_type": "code",
   "execution_count": null,
   "metadata": {},
   "outputs": [],
   "source": [
    "savefig(\"xuvalence.pdf\")"
   ]
  },
  {
   "cell_type": "code",
   "execution_count": null,
   "metadata": {},
   "outputs": [],
   "source": [
    "#\n",
    "# Here we calculated the effective exponent of (1-x) for the u-valence distribution\n",
    "#\n",
    "f(v)=v.θ[1]*(v.K_u+1)/(2-v.θ[1])\n"
   ]
  },
  {
   "cell_type": "code",
   "execution_count": null,
   "metadata": {},
   "outputs": [],
   "source": [
    "mode_pars_data = mode(samples)\n",
    "f(mode_pars_data)"
   ]
  },
  {
   "cell_type": "code",
   "execution_count": null,
   "metadata": {},
   "outputs": [],
   "source": [
    "sub_samples = BAT.bat_sample(samples, BAT.OrderedResampling(nsamples=10000)).result\n",
    "\n",
    "lambda=zeros(10000)\n",
    "for i=1:10000\n",
    "    pdf_params_i = DirichletPDFParams(K_u=sub_samples.v.K_u[i], K_d=sub_samples.v.K_d[i],\n",
    "                                          λ_g1=sub_samples.v.λ_g1[i], λ_g2=sub_samples.v.λ_g2[i],\n",
    "                                          K_g=sub_samples.v.K_g[i], λ_q=sub_samples.v.λ_q[i], \n",
    "                                          θ=Vector(sub_samples.v.θ[i]))\n",
    "    lambda[i]=f(pdf_params_i)\n",
    "end\n",
    "println(quantile!(lambda, 0.5),\" \",quantile!(lambda, 0.16),\" \",quantile!(lambda, 0.84))\n"
   ]
  },
  {
   "cell_type": "code",
   "execution_count": null,
   "metadata": {},
   "outputs": [],
   "source": []
  }
 ],
 "metadata": {
  "kernelspec": {
   "display_name": "Julia 1.7.3",
   "language": "julia",
   "name": "julia-1.7"
  },
  "language_info": {
   "file_extension": ".jl",
   "mimetype": "application/julia",
   "name": "julia",
   "version": "1.7.3"
  }
 },
 "nbformat": 4,
 "nbformat_minor": 4
}
