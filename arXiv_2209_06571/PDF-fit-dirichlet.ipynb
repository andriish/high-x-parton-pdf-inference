{
 "cells": [
  {
   "cell_type": "markdown",
   "metadata": {},
   "source": [
    "# PDF fit\n",
    "\n",
    "Old version without `K_q` as a free parameter. Will have to use pre v0.1.0 version of PartonDensity to run this. See: https://github.com/cescalara/PartonDensity.jl/pull/68"
   ]
  },
  {
   "cell_type": "code",
   "execution_count": null,
   "metadata": {},
   "outputs": [],
   "source": [
    "using BAT, DensityInterface\n",
    "using PartonDensity\n",
    "using QCDNUM\n",
    "using Plots, Random, Distributions, ValueShapes, ParallelProcessingTools\n",
    "using StatsBase, LinearAlgebra\n",
    "using DelimitedFiles\n",
    "\n",
    "gr(fmt=:png);"
   ]
  },
  {
   "cell_type": "code",
   "execution_count": null,
   "metadata": {},
   "outputs": [],
   "source": [
    "counts_obs_ep = readdlm(\"data/eP.dat\") \n",
    "counts_obs_em = readdlm(\"data/eM.dat\") \n",
    "nbins = size(counts_obs_ep)[1]"
   ]
  },
  {
   "cell_type": "code",
   "execution_count": null,
   "metadata": {},
   "outputs": [],
   "source": [
    "# Uncomment for BAT debug\n",
    "#ENV[\"JULIA_DEBUG\"] = \"BAT\""
   ]
  },
  {
   "cell_type": "code",
   "execution_count": null,
   "metadata": {},
   "outputs": [],
   "source": [
    "# Input PDFs\n",
    "\n",
    "pdf_params = DirichletPDFParams(K_u=4.0, K_d=4.0, λ_g1=1.2, λ_g2=-0.4, K_g=4.0,\n",
    "                                λ_q=-0.4, weights=[6., 3., 9., 4.0, 2.,1., 0.2, 0.2, 0.1]);\n",
    "                                \n",
    "# replace weights with θ to specify the momentum fractions directly\n",
    "@info \"Valence λ:\" pdf_params.λ_u pdf_params.λ_d\n",
    "@info \"Momenta:\" pdf_params.θ[1],pdf_params.θ[2],pdf_params.θ[3],pdf_params.θ[4]\n",
    "plot_input_pdfs(pdf_params)"
   ]
  },
  {
   "cell_type": "code",
   "execution_count": null,
   "metadata": {},
   "outputs": [],
   "source": [
    "# Specify QCDNUM inputs\n",
    "qcdnum_grid = QCDNUMGrid(x_min=[1.0e-3, 1.0e-1, 5.0e-1], x_weights=[1, 2, 2], nx=100,\n",
    "                         qq_bounds=[1.0e2, 3.0e4], qq_weights=[1.0, 1.0], nq=50, spline_interp=3)\n",
    "qcdnum_params = QCDNUMParameters(order=2, α_S=0.118, q0=100.0, grid=qcdnum_grid,\n",
    "                                 n_fixed_flav=5, iqc=1, iqb=1, iqt=1, weight_type=1);\n",
    "\n",
    "# Now SPLINT and quark coefficients\n",
    "splint_params = SPLINTParameters();\n",
    "quark_coeffs = QuarkCoefficients();\n",
    "\n",
    "# Initialise QCDNUM\n",
    "#forward_model_init(qcdnum_grid, qcdnum_params, splint_params)\n",
    "forward_model_init_sysErr(qcdnum_grid, qcdnum_params, splint_params)\n",
    "\n",
    "# Run forward model \n",
    "counts_pred_ep, counts_pred_em = forward_model(pdf_params, qcdnum_params,\n",
    "    splint_params, quark_coeffs);"
   ]
  },
  {
   "cell_type": "code",
   "execution_count": null,
   "metadata": {},
   "outputs": [],
   "source": [
    "# Plot the data\n",
    "scatter(1:nbins, counts_obs_ep, label=\"Detected counts (eP)\", color=\"blue\")\n",
    "scatter!(1:nbins, counts_obs_em, label=\"Detected counts (eM)\", color=\"red\")\n",
    "plot!(xlabel=\"Bin number\")"
   ]
  },
  {
   "cell_type": "code",
   "execution_count": null,
   "metadata": {},
   "outputs": [],
   "source": [
    "savefig(\"data/data-sysrun-priors-tight.png\")"
   ]
  },
  {
   "cell_type": "code",
   "execution_count": null,
   "metadata": {},
   "outputs": [],
   "source": [
    "# store in array\n",
    "obs_data = Dict{String, Any}()\n",
    "obs_data[\"nbins\"] = nbins;\n",
    "obs_data[\"counts_obs_ep\"] = counts_obs_ep;\n",
    "obs_data[\"counts_obs_em\"] = counts_obs_em;"
   ]
  },
  {
   "cell_type": "code",
   "execution_count": null,
   "metadata": {},
   "outputs": [],
   "source": [
    "# Prior \n",
    "\n",
    "prior = NamedTupleDist(\n",
    "    θ = Dirichlet([34.,17.,22.,22.,2,2,1,1,0.5]),\n",
    "    K_u = Truncated(Normal(3.5, 0.5), 2., 5.),\n",
    "    K_d = Truncated(Normal(3.5, 0.5), 2., 5.),\n",
    "    λ_g1 = Uniform(1., 2.),\n",
    "    λ_g2 = Uniform(-0.5, -0.1),\n",
    "    K_g =  Truncated(Normal(4., 1.5), 2., 5.),\n",
    "    λ_q = Uniform(-0.5, -0.1),\n",
    "    Beta1 =  Truncated(Normal(0, 1), -5, 5),\n",
    "    Beta2 =  Truncated(Normal(0, 1), -5, 5),\n",
    "    beta0_1=  Truncated(Normal(0, 1), -5, 5), \n",
    "    beta0_2=   Truncated(Normal(0, 1), -5, 5),    \n",
    "    beta0_3= Truncated(Normal(0, 1), -5, 5), \n",
    "    beta0_4=  Truncated(Normal(0, 1), -5, 5), \n",
    "    beta0_5=  Truncated(Normal(0, 1), -5, 5), \n",
    "    beta0_6=  Truncated(Normal(0, 1), -5, 5), \n",
    "    beta0_7=  Truncated(Normal(0, 1), -5, 5), \n",
    "    beta0_8=   Truncated(Normal(0, 1), -5, 5)\n",
    ");"
   ]
  },
  {
   "cell_type": "code",
   "execution_count": null,
   "metadata": {},
   "outputs": [],
   "source": [
    "# Likelihood \n",
    "\n",
    "likelihood = let d = obs_data\n",
    "\n",
    "    counts_obs_ep = d[\"counts_obs_ep\"]\n",
    "    counts_obs_em = d[\"counts_obs_em\"]\n",
    "    nbins = d[\"nbins\"]\n",
    "\n",
    "    logfuncdensity(function (params)\n",
    "\n",
    "            pdf_params = DirichletPDFParams(K_u=params.K_u, K_d=params.K_d, λ_g1=params.λ_g1, λ_g2=params.λ_g2,\n",
    "                                            K_g=params.K_g, λ_q=params.λ_q, θ=params.θ)\n",
    "\n",
    "            #Ensure u-valence weight > d-valence weight\n",
    "            if params.θ[2] > params.θ[1]\n",
    "\n",
    "                return -Inf\n",
    "\n",
    "            end\n",
    "          \n",
    "            ParErrs = [params.beta0_1,params.beta0_2,params.beta0_3,params.beta0_4,\n",
    "                params.beta0_5,params.beta0_6,params.beta0_7,params.beta0_8]\n",
    "            \n",
    "            counts_pred_ep, counts_pred_em = @critical  forward_model_sysErr(pdf_params, \n",
    "                qcdnum_params, splint_params, quark_coeffs,ParErrs );\n",
    " #           counts_pred_ep, counts_pred_em = @critical forward_model(pdf_params,\n",
    " #               qcdnum_params, splint_params, quark_coeffs);\n",
    "\n",
    "            ll_value = 0.0\n",
    "            for i in 1:nbins\n",
    "\n",
    "                if counts_pred_ep[i] < 0\n",
    "                   @debug \"counts_pred_ep[i] < 0, setting to 0\" i counts_pred_ep[i]\n",
    "                   counts_pred_ep[i] = 0\n",
    "                end\n",
    "\n",
    "                if counts_pred_em[i] < 0\n",
    "                   @debug \"counts_pred_em[i] < 0, setting to 0\" i counts_pred_em[i]\n",
    "                   counts_pred_em[i] = 0\n",
    "                end\n",
    "                \n",
    "                counts_pred_ep[i] =counts_pred_ep[i]*(1+0.018*params.Beta1)\n",
    "                counts_pred_em[i] =counts_pred_em[i]*(1+0.018*params.Beta2)\n",
    "\n",
    "                ll_value += logpdf(Poisson(counts_pred_ep[i]), counts_obs_ep[i])\n",
    "                ll_value += logpdf(Poisson(counts_pred_em[i]), counts_obs_em[i])\n",
    "            end\n",
    "\n",
    "            return ll_value\n",
    "    end)\n",
    "end"
   ]
  },
  {
   "cell_type": "code",
   "execution_count": null,
   "metadata": {},
   "outputs": [],
   "source": [
    "# Fit with BAT\n",
    "\n",
    "posterior = PosteriorDensity(likelihood, prior);\n",
    "mcalg = MetropolisHastings(proposal=BAT.MvTDistProposal(10.0))\n",
    "convergence = BrooksGelmanConvergence(threshold=1.3);\n",
    "burnin = MCMCMultiCycleBurnin(max_ncycles=50);\n",
    "\n",
    "samples = bat_sample(posterior, MCMCSampling(mcalg=mcalg, nsteps=5*10^5, nchains=2)).result;"
   ]
  },
  {
   "cell_type": "code",
   "execution_count": null,
   "metadata": {},
   "outputs": [],
   "source": [
    "# Save \n",
    "\n",
    "import HDF5\n",
    "bat_write(\"data/Data-Dirichlet-sysrun-priors-tight.h5\", samples)\n",
    "open(\"data/report.txt\", \"w\") do io\n",
    "    show(io, MIME\"text/plain\"(), bat_report(samples))\n",
    " end"
   ]
  },
  {
   "cell_type": "code",
   "execution_count": null,
   "metadata": {},
   "outputs": [],
   "source": [
    "# Analyse effective sample size\n",
    "\n",
    "bat_eff_sample_size(unshaped.(samples))[1]"
   ]
  }
 ],
 "metadata": {
  "kernelspec": {
   "display_name": "Julia 1.7.3",
   "language": "julia",
   "name": "julia-1.7"
  },
  "language_info": {
   "file_extension": ".jl",
   "mimetype": "application/julia",
   "name": "julia",
   "version": "1.7.3"
  }
 },
 "nbformat": 4,
 "nbformat_minor": 4
}
